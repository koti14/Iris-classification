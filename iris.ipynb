{
  "nbformat": 4,
  "nbformat_minor": 0,
  "metadata": {
    "colab": {
      "provenance": []
    },
    "kernelspec": {
      "name": "python3",
      "display_name": "Python 3"
    },
    "language_info": {
      "name": "python"
    }
  },
  "cells": [
    {
      "cell_type": "code",
      "execution_count": null,
      "metadata": {
        "id": "7O_LQPZe9pfm"
      },
      "outputs": [],
      "source": [
        "from sklearn.datasets import load_iris\n",
        "from sklearn.model_selection import train_test_split\n",
        "from sklearn.preprocessing import StandardScaler\n",
        "from sklearn.linear_model import LogisticRegression\n",
        "from sklearn.metrics import accuracy_score\n"
      ]
    },
    {
      "cell_type": "code",
      "source": [
        "iris=load_iris()\n",
        "x=iris.data\n",
        "y=iris.target"
      ],
      "metadata": {
        "id": "_LMNCk8b-i6s"
      },
      "execution_count": null,
      "outputs": []
    },
    {
      "cell_type": "code",
      "source": [
        "x_train,x_test,y_train,y_test = train_test_split(x,y,test_size=0.2 ,random_state=42)"
      ],
      "metadata": {
        "id": "TvTMG3hWAPE2"
      },
      "execution_count": null,
      "outputs": []
    },
    {
      "cell_type": "code",
      "source": [
        "scaler=StandardScaler()\n",
        "x_train=scaler.fit_transform(x_train)\n",
        "x_test=scaler.transform(x_test)"
      ],
      "metadata": {
        "id": "pklMDoaOAof6"
      },
      "execution_count": null,
      "outputs": []
    },
    {
      "cell_type": "code",
      "source": [
        "model=LogisticRegression(max_iter=1000)\n",
        "model.fit(x_train,y_train)"
      ],
      "metadata": {
        "colab": {
          "base_uri": "https://localhost:8080/",
          "height": 74
        },
        "id": "jJP3mCDTBAMK",
        "outputId": "e67e7b20-d330-4479-d3c9-19a96e5ecbf4"
      },
      "execution_count": null,
      "outputs": [
        {
          "output_type": "execute_result",
          "data": {
            "text/plain": [
              "LogisticRegression(max_iter=1000)"
            ],
            "text/html": [
              "<style>#sk-container-id-1 {color: black;background-color: white;}#sk-container-id-1 pre{padding: 0;}#sk-container-id-1 div.sk-toggleable {background-color: white;}#sk-container-id-1 label.sk-toggleable__label {cursor: pointer;display: block;width: 100%;margin-bottom: 0;padding: 0.3em;box-sizing: border-box;text-align: center;}#sk-container-id-1 label.sk-toggleable__label-arrow:before {content: \"▸\";float: left;margin-right: 0.25em;color: #696969;}#sk-container-id-1 label.sk-toggleable__label-arrow:hover:before {color: black;}#sk-container-id-1 div.sk-estimator:hover label.sk-toggleable__label-arrow:before {color: black;}#sk-container-id-1 div.sk-toggleable__content {max-height: 0;max-width: 0;overflow: hidden;text-align: left;background-color: #f0f8ff;}#sk-container-id-1 div.sk-toggleable__content pre {margin: 0.2em;color: black;border-radius: 0.25em;background-color: #f0f8ff;}#sk-container-id-1 input.sk-toggleable__control:checked~div.sk-toggleable__content {max-height: 200px;max-width: 100%;overflow: auto;}#sk-container-id-1 input.sk-toggleable__control:checked~label.sk-toggleable__label-arrow:before {content: \"▾\";}#sk-container-id-1 div.sk-estimator input.sk-toggleable__control:checked~label.sk-toggleable__label {background-color: #d4ebff;}#sk-container-id-1 div.sk-label input.sk-toggleable__control:checked~label.sk-toggleable__label {background-color: #d4ebff;}#sk-container-id-1 input.sk-hidden--visually {border: 0;clip: rect(1px 1px 1px 1px);clip: rect(1px, 1px, 1px, 1px);height: 1px;margin: -1px;overflow: hidden;padding: 0;position: absolute;width: 1px;}#sk-container-id-1 div.sk-estimator {font-family: monospace;background-color: #f0f8ff;border: 1px dotted black;border-radius: 0.25em;box-sizing: border-box;margin-bottom: 0.5em;}#sk-container-id-1 div.sk-estimator:hover {background-color: #d4ebff;}#sk-container-id-1 div.sk-parallel-item::after {content: \"\";width: 100%;border-bottom: 1px solid gray;flex-grow: 1;}#sk-container-id-1 div.sk-label:hover label.sk-toggleable__label {background-color: #d4ebff;}#sk-container-id-1 div.sk-serial::before {content: \"\";position: absolute;border-left: 1px solid gray;box-sizing: border-box;top: 0;bottom: 0;left: 50%;z-index: 0;}#sk-container-id-1 div.sk-serial {display: flex;flex-direction: column;align-items: center;background-color: white;padding-right: 0.2em;padding-left: 0.2em;position: relative;}#sk-container-id-1 div.sk-item {position: relative;z-index: 1;}#sk-container-id-1 div.sk-parallel {display: flex;align-items: stretch;justify-content: center;background-color: white;position: relative;}#sk-container-id-1 div.sk-item::before, #sk-container-id-1 div.sk-parallel-item::before {content: \"\";position: absolute;border-left: 1px solid gray;box-sizing: border-box;top: 0;bottom: 0;left: 50%;z-index: -1;}#sk-container-id-1 div.sk-parallel-item {display: flex;flex-direction: column;z-index: 1;position: relative;background-color: white;}#sk-container-id-1 div.sk-parallel-item:first-child::after {align-self: flex-end;width: 50%;}#sk-container-id-1 div.sk-parallel-item:last-child::after {align-self: flex-start;width: 50%;}#sk-container-id-1 div.sk-parallel-item:only-child::after {width: 0;}#sk-container-id-1 div.sk-dashed-wrapped {border: 1px dashed gray;margin: 0 0.4em 0.5em 0.4em;box-sizing: border-box;padding-bottom: 0.4em;background-color: white;}#sk-container-id-1 div.sk-label label {font-family: monospace;font-weight: bold;display: inline-block;line-height: 1.2em;}#sk-container-id-1 div.sk-label-container {text-align: center;}#sk-container-id-1 div.sk-container {/* jupyter's `normalize.less` sets `[hidden] { display: none; }` but bootstrap.min.css set `[hidden] { display: none !important; }` so we also need the `!important` here to be able to override the default hidden behavior on the sphinx rendered scikit-learn.org. See: https://github.com/scikit-learn/scikit-learn/issues/21755 */display: inline-block !important;position: relative;}#sk-container-id-1 div.sk-text-repr-fallback {display: none;}</style><div id=\"sk-container-id-1\" class=\"sk-top-container\"><div class=\"sk-text-repr-fallback\"><pre>LogisticRegression(max_iter=1000)</pre><b>In a Jupyter environment, please rerun this cell to show the HTML representation or trust the notebook. <br />On GitHub, the HTML representation is unable to render, please try loading this page with nbviewer.org.</b></div><div class=\"sk-container\" hidden><div class=\"sk-item\"><div class=\"sk-estimator sk-toggleable\"><input class=\"sk-toggleable__control sk-hidden--visually\" id=\"sk-estimator-id-1\" type=\"checkbox\" checked><label for=\"sk-estimator-id-1\" class=\"sk-toggleable__label sk-toggleable__label-arrow\">LogisticRegression</label><div class=\"sk-toggleable__content\"><pre>LogisticRegression(max_iter=1000)</pre></div></div></div></div></div>"
            ]
          },
          "metadata": {},
          "execution_count": 6
        }
      ]
    },
    {
      "cell_type": "code",
      "source": [
        "y_pred=model.predict(x_test)"
      ],
      "metadata": {
        "id": "tABLdiRwBOYp"
      },
      "execution_count": null,
      "outputs": []
    },
    {
      "cell_type": "code",
      "source": [
        "accuracy=accuracy_score(y_test,y_pred)\n",
        "print(f\"Accuracy using Logistic Regression:{accuracy:.2f}\")"
      ],
      "metadata": {
        "colab": {
          "base_uri": "https://localhost:8080/"
        },
        "id": "7L_r8Y-BBU1i",
        "outputId": "c636ea82-d9c4-4e49-9c7d-a22dc2c34aa5"
      },
      "execution_count": null,
      "outputs": [
        {
          "output_type": "stream",
          "name": "stdout",
          "text": [
            "Accuracy using Logistic Regression:1.00\n"
          ]
        }
      ]
    },
    {
      "cell_type": "code",
      "source": [
        "x.shape"
      ],
      "metadata": {
        "colab": {
          "base_uri": "https://localhost:8080/"
        },
        "id": "PXtwxrkMBsJx",
        "outputId": "bb704f43-591c-4055-a37e-ae05182fe839"
      },
      "execution_count": null,
      "outputs": [
        {
          "output_type": "execute_result",
          "data": {
            "text/plain": [
              "(150, 4)"
            ]
          },
          "metadata": {},
          "execution_count": 9
        }
      ]
    },
    {
      "cell_type": "code",
      "source": [
        "import matplotlib.pyplot as plt\n",
        "from sklearn.metrics import confusion_matrix\n",
        "import seaborn as sns"
      ],
      "metadata": {
        "id": "6e6XuZ8DBrMp"
      },
      "execution_count": null,
      "outputs": []
    },
    {
      "cell_type": "code",
      "source": [
        "y_pred_lr=model.predict(x_test)"
      ],
      "metadata": {
        "id": "3uYy_ME-CEXZ"
      },
      "execution_count": null,
      "outputs": []
    },
    {
      "cell_type": "code",
      "source": [
        "cm=confusion_matrix(y_test,y_pred_lr)"
      ],
      "metadata": {
        "id": "uD1_zWpcCM20"
      },
      "execution_count": null,
      "outputs": []
    },
    {
      "cell_type": "code",
      "source": [
        "plt.figure(figsize=(8,6))\n",
        "sns.heatmap(cm,annot=True,cmap='Blues',fmt='g')\n",
        "plt.xlabel('Predicted labels')\n",
        "plt.ylabel('True labels')\n",
        "plt.title('Confusion Matrix - Logistic Regression')\n",
        "plt.show()"
      ],
      "metadata": {
        "colab": {
          "base_uri": "https://localhost:8080/",
          "height": 564
        },
        "id": "fsTpotB0Cib7",
        "outputId": "3bd1f6ba-5d68-43f0-eec8-5977d4431a9f"
      },
      "execution_count": null,
      "outputs": [
        {
          "output_type": "display_data",
          "data": {
            "text/plain": [
              "<Figure size 800x600 with 2 Axes>"
            ],
            "image/png": "[encoded data removed]"
          },
          "metadata": {}
        }
      ]
    },
    {
      "cell_type": "code",
      "source": [
        "import tensorflow as tf\n",
        "from sklearn.model_selection import train_test_split\n",
        "from sklearn.preprocessing import StandardScaler\n",
        "from sklearn.datasets import load_iris"
      ],
      "metadata": {
        "id": "mwvEtd9tDPjz"
      },
      "execution_count": null,
      "outputs": []
    },
    {
      "cell_type": "code",
      "source": [
        "iris=load_iris()\n",
        "x=iris.data\n",
        "y=iris.target"
      ],
      "metadata": {
        "id": "CtX6trPnEHs2"
      },
      "execution_count": null,
      "outputs": []
    },
    {
      "cell_type": "code",
      "source": [
        "x_train,x_test,y_train,y_test = train_test_split(x,y,test_size=0.2 ,random_state=42)"
      ],
      "metadata": {
        "id": "kLukBnPZEQfb"
      },
      "execution_count": null,
      "outputs": []
    },
    {
      "cell_type": "code",
      "source": [
        "scaler=StandardScaler()\n",
        "x_train=scaler.fit_transform(x_train)\n",
        "x_test=scaler.transform(x_test)"
      ],
      "metadata": {
        "id": "DHc-Px05EVio"
      },
      "execution_count": null,
      "outputs": []
    },
    {
      "cell_type": "code",
      "source": [
        "model=tf.keras.Sequential([\n",
        "    tf.keras.layers.Dense(10,activation='relu',input_shape=(4,)),\n",
        "    tf.keras.layers.Dense(20,activation='relu'),\n",
        "    tf.keras.layers.Dense(10,activation='relu'),\n",
        "    tf.keras.layers.Dense(3,activation='softmax')\n",
        "])"
      ],
      "metadata": {
        "id": "ba6hZzncEcNX"
      },
      "execution_count": null,
      "outputs": []
    },
    {
      "cell_type": "code",
      "source": [
        "model.compile(optimizer='adam',loss='sparse_categorical_crossentropy',metrics=['accuracy'])\n"
      ],
      "metadata": {
        "id": "IOKfBpjQFHbc"
      },
      "execution_count": null,
      "outputs": []
    },
    {
      "cell_type": "code",
      "source": [
        "history=model.fit(x_train,y_train,epochs=50,batch_size=32,validation_split=0.2,verbose=1)"
      ],
      "metadata": {
        "colab": {
          "base_uri": "https://localhost:8080/"
        },
        "id": "M2dYl2oXFdan",
        "outputId": "dea12b4b-1ec2-4413-f937-8698ef18404b"
      },
      "execution_count": null,
      "outputs": [
        {
          "output_type": "stream",
          "name": "stdout",
          "text": [
            "Epoch 1/50\n",
            "3/3 [==============================] - 2s 228ms/step - loss: 1.0601 - accuracy: 0.4896 - val_loss: 1.0137 - val_accuracy: 0.7083\n",
            "Epoch 2/50\n",
            "3/3 [==============================] - 0s 38ms/step - loss: 1.0264 - accuracy: 0.5521 - val_loss: 0.9957 - val_accuracy: 0.7083\n",
            "Epoch 3/50\n",
            "3/3 [==============================] - 0s 35ms/step - loss: 0.9981 - accuracy: 0.6146 - val_loss: 0.9786 - val_accuracy: 0.7083\n",
            "Epoch 4/50\n",
            "3/3 [==============================] - 0s 40ms/step - loss: 0.9704 - accuracy: 0.6354 - val_loss: 0.9617 - val_accuracy: 0.7083\n",
            "Epoch 5/50\n",
            "3/3 [==============================] - 0s 34ms/step - loss: 0.9437 - accuracy: 0.6354 - val_loss: 0.9454 - val_accuracy: 0.7083\n",
            "Epoch 6/50\n",
            "3/3 [==============================] - 0s 35ms/step - loss: 0.9182 - accuracy: 0.6458 - val_loss: 0.9295 - val_accuracy: 0.7083\n",
            "Epoch 7/50\n",
            "3/3 [==============================] - 0s 40ms/step - loss: 0.8938 - accuracy: 0.6458 - val_loss: 0.9128 - val_accuracy: 0.7083\n",
            "Epoch 8/50\n",
            "3/3 [==============================] - 0s 39ms/step - loss: 0.8681 - accuracy: 0.6458 - val_loss: 0.8959 - val_accuracy: 0.7083\n",
            "Epoch 9/50\n",
            "3/3 [==============================] - 0s 36ms/step - loss: 0.8439 - accuracy: 0.6458 - val_loss: 0.8790 - val_accuracy: 0.7083\n",
            "Epoch 10/50\n",
            "3/3 [==============================] - 0s 39ms/step - loss: 0.8203 - accuracy: 0.6458 - val_loss: 0.8625 - val_accuracy: 0.7083\n",
            "Epoch 11/50\n",
            "3/3 [==============================] - 0s 28ms/step - loss: 0.7986 - accuracy: 0.6458 - val_loss: 0.8464 - val_accuracy: 0.7083\n",
            "Epoch 12/50\n",
            "3/3 [==============================] - 0s 27ms/step - loss: 0.7752 - accuracy: 0.6458 - val_loss: 0.8298 - val_accuracy: 0.7083\n",
            "Epoch 13/50\n",
            "3/3 [==============================] - 0s 29ms/step - loss: 0.7545 - accuracy: 0.6562 - val_loss: 0.8128 - val_accuracy: 0.7083\n",
            "Epoch 14/50\n",
            "3/3 [==============================] - 0s 28ms/step - loss: 0.7327 - accuracy: 0.6562 - val_loss: 0.7953 - val_accuracy: 0.7083\n",
            "Epoch 15/50\n",
            "3/3 [==============================] - 0s 33ms/step - loss: 0.7121 - accuracy: 0.6562 - val_loss: 0.7780 - val_accuracy: 0.7083\n",
            "Epoch 16/50\n",
            "3/3 [==============================] - 0s 40ms/step - loss: 0.6926 - accuracy: 0.6667 - val_loss: 0.7614 - val_accuracy: 0.7083\n",
            "Epoch 17/50\n",
            "3/3 [==============================] - 0s 36ms/step - loss: 0.6737 - accuracy: 0.6979 - val_loss: 0.7454 - val_accuracy: 0.7500\n",
            "Epoch 18/50\n",
            "3/3 [==============================] - 0s 39ms/step - loss: 0.6555 - accuracy: 0.7188 - val_loss: 0.7300 - val_accuracy: 0.7500\n",
            "Epoch 19/50\n",
            "3/3 [==============================] - 0s 36ms/step - loss: 0.6379 - accuracy: 0.7396 - val_loss: 0.7150 - val_accuracy: 0.7500\n",
            "Epoch 20/50\n",
            "3/3 [==============================] - 0s 36ms/step - loss: 0.6209 - accuracy: 0.7396 - val_loss: 0.7000 - val_accuracy: 0.7500\n",
            "Epoch 21/50\n",
            "3/3 [==============================] - 0s 36ms/step - loss: 0.6044 - accuracy: 0.7500 - val_loss: 0.6855 - val_accuracy: 0.7500\n",
            "Epoch 22/50\n",
            "3/3 [==============================] - 0s 33ms/step - loss: 0.5889 - accuracy: 0.7500 - val_loss: 0.6714 - val_accuracy: 0.7917\n",
            "Epoch 23/50\n",
            "3/3 [==============================] - 0s 37ms/step - loss: 0.5741 - accuracy: 0.7812 - val_loss: 0.6579 - val_accuracy: 0.7917\n",
            "Epoch 24/50\n",
            "3/3 [==============================] - 0s 39ms/step - loss: 0.5600 - accuracy: 0.8021 - val_loss: 0.6450 - val_accuracy: 0.8333\n",
            "Epoch 25/50\n",
            "3/3 [==============================] - 0s 37ms/step - loss: 0.5462 - accuracy: 0.8021 - val_loss: 0.6319 - val_accuracy: 0.8333\n",
            "Epoch 26/50\n",
            "3/3 [==============================] - 0s 36ms/step - loss: 0.5332 - accuracy: 0.8229 - val_loss: 0.6192 - val_accuracy: 0.8333\n",
            "Epoch 27/50\n",
            "3/3 [==============================] - 0s 36ms/step - loss: 0.5212 - accuracy: 0.8333 - val_loss: 0.6066 - val_accuracy: 0.8333\n",
            "Epoch 28/50\n",
            "3/3 [==============================] - 0s 36ms/step - loss: 0.5097 - accuracy: 0.8438 - val_loss: 0.5942 - val_accuracy: 0.9167\n",
            "Epoch 29/50\n",
            "3/3 [==============================] - 0s 38ms/step - loss: 0.4988 - accuracy: 0.8646 - val_loss: 0.5825 - val_accuracy: 0.9167\n",
            "Epoch 30/50\n",
            "3/3 [==============================] - 0s 38ms/step - loss: 0.4882 - accuracy: 0.8646 - val_loss: 0.5714 - val_accuracy: 0.9167\n",
            "Epoch 31/50\n",
            "3/3 [==============================] - 0s 35ms/step - loss: 0.4783 - accuracy: 0.8854 - val_loss: 0.5603 - val_accuracy: 0.9583\n",
            "Epoch 32/50\n",
            "3/3 [==============================] - 0s 39ms/step - loss: 0.4688 - accuracy: 0.8854 - val_loss: 0.5503 - val_accuracy: 0.9583\n",
            "Epoch 33/50\n",
            "3/3 [==============================] - 0s 45ms/step - loss: 0.4596 - accuracy: 0.8958 - val_loss: 0.5401 - val_accuracy: 0.9583\n",
            "Epoch 34/50\n",
            "3/3 [==============================] - 0s 36ms/step - loss: 0.4512 - accuracy: 0.9062 - val_loss: 0.5297 - val_accuracy: 0.9583\n",
            "Epoch 35/50\n",
            "3/3 [==============================] - 0s 28ms/step - loss: 0.4423 - accuracy: 0.9062 - val_loss: 0.5207 - val_accuracy: 0.9583\n",
            "Epoch 36/50\n",
            "3/3 [==============================] - 0s 35ms/step - loss: 0.4346 - accuracy: 0.8854 - val_loss: 0.5112 - val_accuracy: 0.9167\n",
            "Epoch 37/50\n",
            "3/3 [==============================] - 0s 35ms/step - loss: 0.4270 - accuracy: 0.8854 - val_loss: 0.5019 - val_accuracy: 0.9167\n",
            "Epoch 38/50\n",
            "3/3 [==============================] - 0s 36ms/step - loss: 0.4193 - accuracy: 0.8854 - val_loss: 0.4931 - val_accuracy: 0.9167\n",
            "Epoch 39/50\n",
            "3/3 [==============================] - 0s 38ms/step - loss: 0.4120 - accuracy: 0.8750 - val_loss: 0.4844 - val_accuracy: 0.9167\n",
            "Epoch 40/50\n",
            "3/3 [==============================] - 0s 57ms/step - loss: 0.4050 - accuracy: 0.8750 - val_loss: 0.4766 - val_accuracy: 0.9167\n",
            "Epoch 41/50\n",
            "3/3 [==============================] - 0s 52ms/step - loss: 0.3988 - accuracy: 0.8750 - val_loss: 0.4684 - val_accuracy: 0.9167\n",
            "Epoch 42/50\n",
            "3/3 [==============================] - 0s 61ms/step - loss: 0.3918 - accuracy: 0.8750 - val_loss: 0.4595 - val_accuracy: 0.9167\n",
            "Epoch 43/50\n",
            "3/3 [==============================] - 0s 61ms/step - loss: 0.3853 - accuracy: 0.8646 - val_loss: 0.4505 - val_accuracy: 0.9167\n",
            "Epoch 44/50\n",
            "3/3 [==============================] - 0s 49ms/step - loss: 0.3795 - accuracy: 0.8542 - val_loss: 0.4412 - val_accuracy: 0.9167\n",
            "Epoch 45/50\n",
            "3/3 [==============================] - 0s 58ms/step - loss: 0.3732 - accuracy: 0.8542 - val_loss: 0.4317 - val_accuracy: 0.9167\n",
            "Epoch 46/50\n",
            "3/3 [==============================] - 0s 50ms/step - loss: 0.3668 - accuracy: 0.8542 - val_loss: 0.4225 - val_accuracy: 0.9167\n",
            "Epoch 47/50\n",
            "3/3 [==============================] - 0s 56ms/step - loss: 0.3608 - accuracy: 0.8542 - val_loss: 0.4127 - val_accuracy: 0.9167\n",
            "Epoch 48/50\n",
            "3/3 [==============================] - 0s 52ms/step - loss: 0.3544 - accuracy: 0.8542 - val_loss: 0.4041 - val_accuracy: 0.9167\n",
            "Epoch 49/50\n",
            "3/3 [==============================] - 0s 42ms/step - loss: 0.3482 - accuracy: 0.8542 - val_loss: 0.3945 - val_accuracy: 0.9167\n",
            "Epoch 50/50\n",
            "3/3 [==============================] - 0s 76ms/step - loss: 0.3421 - accuracy: 0.8542 - val_loss: 0.3841 - val_accuracy: 0.9167\n"
          ]
        }
      ]
    },
    {
      "cell_type": "code",
      "source": [
        "loss,accuarcy=model.evaluate(x_test,y_test)\n",
        "print(f\"Accuracy using Tenserflow:{accuracy:.2f}\")"
      ],
      "metadata": {
        "colab": {
          "base_uri": "https://localhost:8080/"
        },
        "id": "aCn08BAiF7vB",
        "outputId": "c9c785a8-6137-473a-bf08-614a435535a9"
      },
      "execution_count": null,
      "outputs": [
        {
          "output_type": "stream",
          "name": "stdout",
          "text": [
            "1/1 [==============================] - 0s 66ms/step - loss: 0.3228 - accuracy: 0.9333\n",
            "Accuracy using Tenserflow:1.00\n"
          ]
        }
      ]
    },
    {
      "cell_type": "code",
      "source": [
        "plt.figure(figsize=(10,4))\n",
        "\n"
      ],
      "metadata": {
        "colab": {
          "base_uri": "https://localhost:8080/",
          "height": 52
        },
        "id": "uLnHGwcPGWDJ",
        "outputId": "e28be26e-769e-480e-824a-fb6a81fcda22"
      },
      "execution_count": null,
      "outputs": [
        {
          "output_type": "execute_result",
          "data": {
            "text/plain": [
              "<Figure size 1000x400 with 0 Axes>"
            ]
          },
          "metadata": {},
          "execution_count": 27
        },
        {
          "output_type": "display_data",
          "data": {
            "text/plain": [
              "<Figure size 1000x400 with 0 Axes>"
            ]
          },
          "metadata": {}
        }
      ]
    },
    {
      "cell_type": "code",
      "source": [
        "plt.subplot(1,2,1)\n",
        "plt.plot(history.history['loss'],label='Training Loss')\n",
        "plt.plot(history.history['val_loss'],label='Validation Loss')\n",
        "plt.xlabel('Epochs')\n",
        "plt.ylabel('Loss')\n",
        "plt.title('Training and Validation Loss')\n",
        "plt.legend()"
      ],
      "metadata": {
        "colab": {
          "base_uri": "https://localhost:8080/",
          "height": 489
        },
        "id": "UZ4791NHG2L6",
        "outputId": "e35a8f3e-8c3c-4bc3-cec6-77803604c5cb"
      },
      "execution_count": null,
      "outputs": [
        {
          "output_type": "execute_result",
          "data": {
            "text/plain": [
              "<matplotlib.legend.Legend at 0x7daa7dd5d090>"
            ]
          },
          "metadata": {},
          "execution_count": 30
        },
        {
          "output_type": "display_data",
          "data": {
            "text/plain": [
              "<Figure size 640x480 with 1 Axes>"
            ],
            "image/png": "[encoded data removed]"
          },
          "metadata": {}
        }
      ]
    },
    {
      "cell_type": "code",
      "source": [
        "plt.subplot(1,2,2)\n",
        "plt.plot(history.history['accuracy'],label='Training Accuracy')\n",
        "plt.plot(history.history['val_accuracy'],label='Validation Accuracy')\n",
        "plt.xlabel('Epochs')\n",
        "plt.ylabel('Accuracy')\n",
        "plt.title('Training and Validation Accuracy')\n",
        "plt.legend()"
      ],
      "metadata": {
        "colab": {
          "base_uri": "https://localhost:8080/",
          "height": 489
        },
        "id": "NHnZFD6xH0Gj",
        "outputId": "45ff14a4-2b68-433e-e658-5eb48b9184d6"
      },
      "execution_count": null,
      "outputs": [
        {
          "output_type": "execute_result",
          "data": {
            "text/plain": [
              "<matplotlib.legend.Legend at 0x7daa7ddf3af0>"
            ]
          },
          "metadata": {},
          "execution_count": 31
        },
        {
          "output_type": "display_data",
          "data": {
            "text/plain": [
              "<Figure size 640x480 with 1 Axes>"
            ],
            "image/png": "[encoded data removed]"
          },
          "metadata": {}
        }
      ]
    },
    {
      "cell_type": "code",
      "source": [
        "plt.tight_layout()\n",
        "plt.show()"
      ],
      "metadata": {
        "colab": {
          "base_uri": "https://localhost:8080/",
          "height": 34
        },
        "id": "G65iMinAIKxP",
        "outputId": "87072b6c-5745-42ba-8396-270dbf44d64a"
      },
      "execution_count": null,
      "outputs": [
        {
          "output_type": "display_data",
          "data": {
            "text/plain": [
              "<Figure size 640x480 with 0 Axes>"
            ]
          },
          "metadata": {}
        }
      ]
    }
  ]
}